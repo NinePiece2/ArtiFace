{
 "cells": [
  {
   "attachments": {},
   "cell_type": "markdown",
   "metadata": {},
   "source": [
    "## Imports"
   ]
  },
  {
   "cell_type": "code",
   "execution_count": 2,
   "metadata": {},
   "outputs": [],
   "source": [
    "import os\n",
    "from PIL import Image"
   ]
  },
  {
   "cell_type": "code",
   "execution_count": null,
   "metadata": {},
   "outputs": [],
   "source": [
    "# Set the directory path where the images are located\n",
    "directory_path = os.environ['DATASET_PATH']\n",
    "\n",
    "# Get a list of all the image files in the directory\n",
    "image_files = [os.path.join(directory_path, f) for f in os.listdir(directory_path) if f.endswith('.jpg')]\n",
    "\n",
    "# Sort the list of image files by name (optional)\n",
    "image_files.sort()\n",
    "\n",
    "# Create a list to hold the first 50 images\n",
    "first_50_images = []\n",
    "\n",
    "# Loop through the image files and add the first 50 to the list\n",
    "for i, image_file in enumerate(image_files):\n",
    "    if i >= 50:\n",
    "        break\n",
    "    image = Image.open(image_file)\n",
    "    first_50_images.append(image)\n",
    "\n",
    "# Display the first 50 images\n",
    "for image in first_50_images:\n",
    "    image.show()\n"
   ]
  }
 ],
 "metadata": {
  "kernelspec": {
   "display_name": "Python 3",
   "language": "python",
   "name": "python3"
  },
  "language_info": {
   "codemirror_mode": {
    "name": "ipython",
    "version": 3
   },
   "file_extension": ".py",
   "mimetype": "text/x-python",
   "name": "python",
   "nbconvert_exporter": "python",
   "pygments_lexer": "ipython3",
   "version": "3.9.0"
  },
  "orig_nbformat": 4
 },
 "nbformat": 4,
 "nbformat_minor": 2
}
