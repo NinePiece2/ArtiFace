{
 "cells": [
  {
   "attachments": {},
   "cell_type": "markdown",
   "metadata": {},
   "source": [
    "## Imports"
   ]
  },
  {
   "cell_type": "code",
   "execution_count": 1,
   "metadata": {},
   "outputs": [],
   "source": [
    "import os\n",
    "import matplotlib.pyplot as plt\n",
    "from matplotlib.image import imread\n",
    "import pandas as pd\n",
    "from PIL import Image\n",
    "\n",
    "import tensorflow as tf\n",
    "import numpy as np\n",
    "from tensorflow.keras import layers"
   ]
  },
  {
   "attachments": {},
   "cell_type": "markdown",
   "metadata": {},
   "source": [
    "## Hyperparameters"
   ]
  },
  {
   "cell_type": "code",
   "execution_count": 2,
   "metadata": {},
   "outputs": [],
   "source": [
    "directory_path = os.environ['DATASET_PATH']\n",
    "image_files = [os.path.join(directory_path, f) for f in os.listdir(directory_path) if f.endswith('.jpg')]\n",
    "\n",
    "\n",
    "EPOCHS = 1000\n",
    "NOISE_DIM = 100\n",
    "BATCH_SIZE = 64\n",
    "\n",
    "MAX_SIZE = 10000\n",
    "\n",
    "# Select percentage of data to use in each epoch\n",
    "RANDOM_SELECT = 0.5\n",
    "\n",
    "INITIAL_TRAIN_RATIO = 5\n",
    "INITIAL_EPOCHS = 100\n",
    "TRAIN_DECAY = 0.8\n",
    "TRAIN_DECAY_EPOCHS = 25\n",
    "\n",
    "\n",
    "INTERVAL = 50"
   ]
  },
  {
   "attachments": {},
   "cell_type": "markdown",
   "metadata": {},
   "source": [
    "## Models"
   ]
  },
  {
   "attachments": {},
   "cell_type": "markdown",
   "metadata": {},
   "source": [
    "### Discriminator"
   ]
  },
  {
   "cell_type": "code",
   "execution_count": 3,
   "metadata": {},
   "outputs": [],
   "source": [
    "def make_discriminator_model():\n",
    "    model = tf.keras.Sequential([\n",
    "        layers.Conv2D(64, (5, 5), strides=(2, 2), padding='same', input_shape=(128, 128, 3,)),\n",
    "        layers.LeakyReLU(),\n",
    "        layers.Dropout(0.3),\n",
    "\n",
    "        layers.Conv2D(128, (5, 5), strides=(2, 2), padding='same'),\n",
    "        layers.LeakyReLU(),\n",
    "        layers.Dropout(0.3),\n",
    "\n",
    "        layers.Flatten(),\n",
    "        layers.Dense(1, activation='sigmoid')\n",
    "    ])\n",
    "\n",
    "    return model"
   ]
  },
  {
   "cell_type": "code",
   "execution_count": 4,
   "metadata": {},
   "outputs": [
    {
     "name": "stdout",
     "output_type": "stream",
     "text": [
      "Model: \"sequential\"\n",
      "_________________________________________________________________\n",
      " Layer (type)                Output Shape              Param #   \n",
      "=================================================================\n",
      " conv2d (Conv2D)             (None, 64, 64, 64)        4864      \n",
      "                                                                 \n",
      " leaky_re_lu (LeakyReLU)     (None, 64, 64, 64)        0         \n",
      "                                                                 \n",
      " dropout (Dropout)           (None, 64, 64, 64)        0         \n",
      "                                                                 \n",
      " conv2d_1 (Conv2D)           (None, 32, 32, 128)       204928    \n",
      "                                                                 \n",
      " leaky_re_lu_1 (LeakyReLU)   (None, 32, 32, 128)       0         \n",
      "                                                                 \n",
      " dropout_1 (Dropout)         (None, 32, 32, 128)       0         \n",
      "                                                                 \n",
      " flatten (Flatten)           (None, 131072)            0         \n",
      "                                                                 \n",
      " dense (Dense)               (None, 1)                 131073    \n",
      "                                                                 \n",
      "=================================================================\n",
      "Total params: 340,865\n",
      "Trainable params: 340,865\n",
      "Non-trainable params: 0\n",
      "_________________________________________________________________\n"
     ]
    }
   ],
   "source": [
    "discriminator = make_discriminator_model()\n",
    "discriminator.summary()"
   ]
  },
  {
   "attachments": {},
   "cell_type": "markdown",
   "metadata": {},
   "source": [
    "### Generator"
   ]
  },
  {
   "cell_type": "code",
   "execution_count": 5,
   "metadata": {},
   "outputs": [],
   "source": [
    "def make_generator_model():\n",
    "    model = tf.keras.Sequential([\n",
    "        layers.Dense(32*32*512, use_bias=False, input_shape=(NOISE_DIM,)),\n",
    "        layers.BatchNormalization(),\n",
    "        layers.LeakyReLU(),\n",
    "\n",
    "        layers.Reshape((32, 32, 512)),\n",
    "        layers.Conv2DTranspose(256, (5, 5), strides=(1, 1), padding='same', use_bias=False),\n",
    "        layers.BatchNormalization(),\n",
    "        layers.LeakyReLU(),\n",
    "\n",
    "        layers.Conv2DTranspose(128, (5, 5), strides=(2, 2), padding='same', use_bias=False),\n",
    "        layers.BatchNormalization(),\n",
    "        layers.LeakyReLU(),\n",
    "\n",
    "        layers.Conv2DTranspose(64, (5, 5), strides=(2, 2), padding='same', use_bias=False),\n",
    "        layers.BatchNormalization(),\n",
    "        layers.LeakyReLU(),\n",
    "\n",
    "        layers.Conv2DTranspose(3, (5, 5), strides=(1, 1), padding='same', use_bias=False, activation='tanh')\n",
    "    ])\n",
    "\n",
    "    return model"
   ]
  },
  {
   "cell_type": "code",
   "execution_count": 6,
   "metadata": {},
   "outputs": [
    {
     "name": "stdout",
     "output_type": "stream",
     "text": [
      "Model: \"sequential_1\"\n",
      "_________________________________________________________________\n",
      " Layer (type)                Output Shape              Param #   \n",
      "=================================================================\n",
      " dense_1 (Dense)             (None, 524288)            52428800  \n",
      "                                                                 \n",
      " batch_normalization (BatchN  (None, 524288)           2097152   \n",
      " ormalization)                                                   \n",
      "                                                                 \n",
      " leaky_re_lu_2 (LeakyReLU)   (None, 524288)            0         \n",
      "                                                                 \n",
      " reshape (Reshape)           (None, 32, 32, 512)       0         \n",
      "                                                                 \n",
      " conv2d_transpose (Conv2DTra  (None, 32, 32, 256)      3276800   \n",
      " nspose)                                                         \n",
      "                                                                 \n",
      " batch_normalization_1 (Batc  (None, 32, 32, 256)      1024      \n",
      " hNormalization)                                                 \n",
      "                                                                 \n",
      " leaky_re_lu_3 (LeakyReLU)   (None, 32, 32, 256)       0         \n",
      "                                                                 \n",
      " conv2d_transpose_1 (Conv2DT  (None, 64, 64, 128)      819200    \n",
      " ranspose)                                                       \n",
      "                                                                 \n",
      " batch_normalization_2 (Batc  (None, 64, 64, 128)      512       \n",
      " hNormalization)                                                 \n",
      "                                                                 \n",
      " leaky_re_lu_4 (LeakyReLU)   (None, 64, 64, 128)       0         \n",
      "                                                                 \n",
      " conv2d_transpose_2 (Conv2DT  (None, 128, 128, 64)     204800    \n",
      " ranspose)                                                       \n",
      "                                                                 \n",
      " batch_normalization_3 (Batc  (None, 128, 128, 64)     256       \n",
      " hNormalization)                                                 \n",
      "                                                                 \n",
      " leaky_re_lu_5 (LeakyReLU)   (None, 128, 128, 64)      0         \n",
      "                                                                 \n",
      " conv2d_transpose_3 (Conv2DT  (None, 128, 128, 3)      4800      \n",
      " ranspose)                                                       \n",
      "                                                                 \n",
      "=================================================================\n",
      "Total params: 58,833,344\n",
      "Trainable params: 57,783,872\n",
      "Non-trainable params: 1,049,472\n",
      "_________________________________________________________________\n"
     ]
    }
   ],
   "source": [
    "generator = make_generator_model()\n",
    "generator.summary()"
   ]
  },
  {
   "attachments": {},
   "cell_type": "markdown",
   "metadata": {},
   "source": [
    "## Loss Functions and Optimizers"
   ]
  },
  {
   "cell_type": "code",
   "execution_count": 7,
   "metadata": {},
   "outputs": [],
   "source": [
    "optimizer = tf.keras.optimizers.Adam(1e-4)\n",
    "loss_object = tf.keras.losses.BinaryCrossentropy()"
   ]
  },
  {
   "attachments": {},
   "cell_type": "markdown",
   "metadata": {},
   "source": [
    "### Continute Training"
   ]
  },
  {
   "cell_type": "code",
   "execution_count": 8,
   "metadata": {},
   "outputs": [],
   "source": [
    "TRAINING_RESUME = False\n",
    "epoch = 0\n",
    "\n",
    "if(TRAINING_RESUME):\n",
    "    generator.load_weights(os.path.join(os.environ['CHECKPOINT_PATH'], f\"generator_decay_based_{epoch}.h5\"))\n",
    "    discriminator.load_weights(os.path.join(os.environ['CHECKPOINT_PATH'], f\"discriminator_decay_based_{epoch}.h5\"))"
   ]
  },
  {
   "cell_type": "code",
   "execution_count": 9,
   "metadata": {},
   "outputs": [],
   "source": [
    "## Discriminator setup\n",
    "discriminator.compile(optimizer=optimizer, loss=loss_object, metrics=['accuracy'])\n",
    "discriminator.trainable = False"
   ]
  },
  {
   "cell_type": "code",
   "execution_count": 10,
   "metadata": {},
   "outputs": [],
   "source": [
    "## Generator setup\n",
    "noise = layers.Input(shape=(NOISE_DIM,))\n",
    "image = generator(noise)\n",
    "\n",
    "## Combined model\n",
    "validity = discriminator(image)\n",
    "combined = tf.keras.Model(noise, validity)\n",
    "combined.compile(optimizer=optimizer, loss=loss_object)"
   ]
  },
  {
   "attachments": {},
   "cell_type": "markdown",
   "metadata": {},
   "source": [
    "## Utility Functions"
   ]
  },
  {
   "cell_type": "code",
   "execution_count": 11,
   "metadata": {},
   "outputs": [],
   "source": [
    "def discriminator_train(epoch):\n",
    "    if epoch < INITIAL_EPOCHS:\n",
    "        ratio = INITIAL_TRAIN_RATIO\n",
    "    \n",
    "    else:\n",
    "        ratio = max(1,INITIAL_TRAIN_RATIO * TRAIN_DECAY ** ((epoch - INITIAL_EPOCHS) // TRAIN_DECAY_EPOCHS))\n",
    "    \n",
    "    return (epoch%ratio == 0)"
   ]
  },
  {
   "cell_type": "code",
   "execution_count": 12,
   "metadata": {},
   "outputs": [],
   "source": [
    "def sample_image(epoch):\n",
    "    noise = np.random.normal(0, 1, (1, NOISE_DIM))\n",
    "\n",
    "    gen_imgs = generator.predict(noise, verbose=0)\n",
    "    gen_imgs = 0.5 * gen_imgs + 0.5\n",
    "\n",
    "    fig = gen_imgs[0]\n",
    "    im = Image.fromarray((fig * 255).astype(np.uint8))\n",
    "\n",
    "    path = os.path.join(os.environ['SAMPLES_PATH'], f\"image_decay_based_{epoch}.jpg\")\n",
    "    im.save(path)"
   ]
  },
  {
   "cell_type": "code",
   "execution_count": 13,
   "metadata": {},
   "outputs": [],
   "source": [
    "## Create batches of images from directory\n",
    "\n",
    "def create_batches(images, batch_size=BATCH_SIZE):\n",
    "    while True:\n",
    "        for i in range(0, MAX_SIZE, batch_size):\n",
    "            batch_images = image_files[i:i+batch_size]\n",
    "            batch = np.array([imread(file_name) for file_name in batch_images])\n",
    "            batch = (batch.astype(np.float32) - 127.5) / 127.5\n",
    "            yield batch"
   ]
  },
  {
   "cell_type": "code",
   "execution_count": 14,
   "metadata": {},
   "outputs": [],
   "source": [
    "def create_checkpoint(generator, discriminator,epoch):\n",
    "    path = os.path.join(os.environ['CHECKPOINT_PATH'], f\"generator_decay_based_{epoch}.h5\")\n",
    "    generator.save(path)\n",
    "\n",
    "    path = os.path.join(os.environ['CHECKPOINT_PATH'], f\"discriminator_decay_based_{epoch}.h5\")\n",
    "    discriminator.save(path)\n"
   ]
  },
  {
   "attachments": {},
   "cell_type": "markdown",
   "metadata": {},
   "source": [
    "## Training the model"
   ]
  },
  {
   "cell_type": "code",
   "execution_count": 15,
   "metadata": {},
   "outputs": [],
   "source": [
    "real = np.ones((BATCH_SIZE, 1))\n",
    "fake = np.zeros((BATCH_SIZE, 1))\n",
    "\n",
    "discriminator_loss = []\n",
    "discriminator_accuracy = []\n",
    "generator_loss = []\n",
    "\n",
    "image_files = np.array(image_files)"
   ]
  },
  {
   "cell_type": "code",
   "execution_count": 16,
   "metadata": {},
   "outputs": [],
   "source": [
    "reshapeModel = tf.keras.Sequential([layers.Resizing(128,128, input_shape=(218,178,3,))])"
   ]
  },
  {
   "cell_type": "code",
   "execution_count": null,
   "metadata": {},
   "outputs": [],
   "source": [
    "for epoch in range(EPOCHS):\n",
    "\n",
    "    print(f\"----------- Epoch {epoch+1} -----------\")\n",
    "\n",
    "    epoch_images = np.random.choice(image_files, int(MAX_SIZE*RANDOM_SELECT), replace=False)\n",
    "\n",
    "    imgGenerator = create_batches(epoch_images)\n",
    "\n",
    "    discriminator_batch_loss = []\n",
    "    discriminator_batch_acc = []\n",
    "    generator_batch_loss = []\n",
    "\n",
    "    for i in range (len(epoch_images)//BATCH_SIZE):\n",
    "\n",
    "        imgs = next(imgGenerator)\n",
    "        imgs = reshapeModel(imgs)\n",
    "\n",
    "        noise = np.random.normal(0, 1, (BATCH_SIZE, NOISE_DIM))\n",
    "\n",
    "        discriminator.trainable = discriminator_train(epoch+1)\n",
    "\n",
    "        gen_imgs = generator.predict(noise, verbose=0)\n",
    "\n",
    "        d_loss_real = discriminator.train_on_batch(imgs, real)\n",
    "        d_loss_fake = discriminator.train_on_batch(gen_imgs, fake)\n",
    "        d_loss = 0.5 * np.add(d_loss_real, d_loss_fake)\n",
    "\n",
    "        discriminator.trainable = False\n",
    "\n",
    "        g_loss = combined.train_on_batch(noise, real)\n",
    "\n",
    "        discriminator_batch_loss.append(d_loss[0])\n",
    "        generator_batch_loss.append(g_loss)\n",
    "        discriminator_batch_acc.append(d_loss[1])\n",
    "\n",
    "    discriminator_loss.append(np.mean(discriminator_batch_loss))\n",
    "    generator_loss.append(np.mean(generator_batch_loss))\n",
    "    discriminator_accuracy.append(np.mean(discriminator_batch_acc))\n",
    "\n",
    "\n",
    "    print(f\"Discriminator loss: {discriminator_loss[epoch]}   Accuracy: {discriminator_accuracy[epoch]}\")\n",
    "    print(f\"Generator loss: {generator_loss[epoch]}\")\n",
    "    print('---------------------------------------')\n",
    "\n",
    "    if((epoch+1) % INTERVAL==0):\n",
    "        sample_image(epoch+1)\n",
    "        create_checkpoint(generator, discriminator, epoch+1)"
   ]
  },
  {
   "cell_type": "code",
   "execution_count": 18,
   "metadata": {},
   "outputs": [
    {
     "data": {
      "image/png": "[encoded data removed]",
      "text/plain": [
       "<Figure size 640x480 with 1 Axes>"
      ]
     },
     "metadata": {},
     "output_type": "display_data"
    }
   ],
   "source": [
    "## Plot loss and accuracy\n",
    "\n",
    "plt.plot(discriminator_loss, label='Discriminator loss')\n",
    "plt.plot(discriminator_accuracy, label='Discriminator accuracy')\n",
    "\n",
    "plt.legend()\n",
    "plt.show()"
   ]
  }
 ],
 "metadata": {
  "kernelspec": {
   "display_name": "Python 3",
   "language": "python",
   "name": "python3"
  },
  "language_info": {
   "codemirror_mode": {
    "name": "ipython",
    "version": 3
   },
   "file_extension": ".py",
   "mimetype": "text/x-python",
   "name": "python",
   "nbconvert_exporter": "python",
   "pygments_lexer": "ipython3",
   "version": "3.10.1"
  },
  "orig_nbformat": 4,
  "vscode": {
   "interpreter": {
    "hash": "1c86d1f08c8747f65d29efdac2337fb2fbe4a38445ea9d06a150195f44de4365"
   }
  }
 },
 "nbformat": 4,
 "nbformat_minor": 2
}
