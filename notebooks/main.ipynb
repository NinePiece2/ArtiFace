{
 "cells": [
  {
   "attachments": {},
   "cell_type": "markdown",
   "metadata": {},
   "source": [
    "## Imports"
   ]
  },
  {
   "cell_type": "code",
   "execution_count": null,
   "metadata": {},
   "outputs": [],
   "source": [
    "import os\n",
    "import matplotlib.pyplot as plt\n",
    "from matplotlib.image import imread\n",
    "import pandas as pd\n",
    "from PIL import Image\n",
    "\n",
    "import tensorflow as tf\n",
    "import numpy as np\n",
    "from tensorflow.keras import layers"
   ]
  },
  {
   "attachments": {},
   "cell_type": "markdown",
   "metadata": {},
   "source": [
    "## EDA (Exploratory Data Analysis)"
   ]
  },
  {
   "cell_type": "code",
   "execution_count": null,
   "metadata": {},
   "outputs": [],
   "source": [
    "# Set the directory path where the images are located\n",
    "directory_path = os.environ['DATASET_PATH']\n",
    "\n",
    "# Get a list of all the image files in the directory\n",
    "image_files = [os.path.join(directory_path, f) for f in os.listdir(directory_path) if f.endswith('.jpg')]\n",
    "\n",
    "# Sort the list of image files by name (optional)\n",
    "image_files.sort()\n",
    "\n",
    "# Create a subplot grid with 4 rows and 5 columns\n",
    "fig, axs = plt.subplots(nrows=4, ncols=5, figsize=(10, 8))\n",
    "\n",
    "# Loop through the first 20 images and display them in the subplot grid\n",
    "for i in range(20):\n",
    "    if i >= len(image_files):\n",
    "        break\n",
    "    img = imread(image_files[i])\n",
    "    row = i // 5\n",
    "    col = i % 5\n",
    "    axs[row, col].imshow(img)\n",
    "    axs[row, col].axis('off')\n",
    "\n",
    "# Display the subplot grid\n",
    "plt.show()\n"
   ]
  },
  {
   "cell_type": "code",
   "execution_count": null,
   "metadata": {},
   "outputs": [],
   "source": [
    "print ('Number of images:', len(image_files))"
   ]
  },
  {
   "cell_type": "code",
   "execution_count": null,
   "metadata": {},
   "outputs": [],
   "source": [
    "path = os.environ['CSVPATH']\n",
    "\n",
    "# Load data from CSV file\n",
    "df = pd.read_csv(path)\n",
    "\n",
    "classes = {-1: 'Female', 1: 'Male'}\n",
    "\n",
    "plt.hist(list(map(lambda x: classes[x] , df['Male'])))\n",
    "plt.show()"
   ]
  },
  {
   "cell_type": "code",
   "execution_count": null,
   "metadata": {},
   "outputs": [],
   "source": [
    "classes = {-1: 'Old', 1: 'Young'}\n",
    "\n",
    "plt.hist(list(map(lambda x: classes[x] , df['Young'])))\n",
    "plt.show()"
   ]
  },
  {
   "attachments": {},
   "cell_type": "markdown",
   "metadata": {},
   "source": [
    "## Hyperparameters"
   ]
  },
  {
   "cell_type": "code",
   "execution_count": null,
   "metadata": {},
   "outputs": [],
   "source": [
    "EPOCHS = 100\n",
    "NOISE_DIM = 250\n",
    "BATCH_SIZE = 64\n",
    "\n",
    "MAX_SIZE = len(image_files)\n",
    "\n",
    "# Select percentage of data to use in each epoch\n",
    "RANDOM_SELECT = 1\n",
    "\n",
    "DISCRIMINATOR_ACCURACY_THRESHOLD = 0.7\n",
    "\n",
    "INTERVAL = 5"
   ]
  },
  {
   "attachments": {},
   "cell_type": "markdown",
   "metadata": {},
   "source": [
    "## Models"
   ]
  },
  {
   "attachments": {},
   "cell_type": "markdown",
   "metadata": {},
   "source": [
    "### Discriminator"
   ]
  },
  {
   "cell_type": "code",
   "execution_count": null,
   "metadata": {},
   "outputs": [],
   "source": [
    "def make_discriminator_model():\n",
    "    model = tf.keras.Sequential([\n",
    "        layers.Conv2D(64, (5, 5), strides=(2, 2), padding='same', input_shape=(128, 128, 3,)),\n",
    "        layers.LeakyReLU(),\n",
    "        layers.Dropout(0.3),\n",
    "\n",
    "        layers.Conv2D(128, (5, 5), strides=(2, 2), padding='same'),\n",
    "        layers.LeakyReLU(),\n",
    "        layers.Dropout(0.3),\n",
    "\n",
    "        layers.Flatten(),\n",
    "        layers.Dense(1, activation='sigmoid')\n",
    "    ])\n",
    "\n",
    "    return model"
   ]
  },
  {
   "cell_type": "code",
   "execution_count": null,
   "metadata": {},
   "outputs": [],
   "source": [
    "discriminator = make_discriminator_model()\n",
    "discriminator.summary()"
   ]
  },
  {
   "attachments": {},
   "cell_type": "markdown",
   "metadata": {},
   "source": [
    "### Generator"
   ]
  },
  {
   "cell_type": "code",
   "execution_count": null,
   "metadata": {},
   "outputs": [],
   "source": [
    "def make_generator_model():\n",
    "    model = tf.keras.Sequential([\n",
    "        layers.Dense(32*32*512, use_bias=False, input_shape=(NOISE_DIM,)),\n",
    "        layers.BatchNormalization(),\n",
    "        layers.LeakyReLU(),\n",
    "\n",
    "        layers.Reshape((32, 32, 512)),\n",
    "        layers.Conv2DTranspose(256, (5, 5), strides=(1, 1), padding='same', use_bias=False),\n",
    "        layers.BatchNormalization(),\n",
    "        layers.LeakyReLU(),\n",
    "\n",
    "        layers.Conv2DTranspose(128, (5, 5), strides=(2, 2), padding='same', use_bias=False),\n",
    "        layers.BatchNormalization(),\n",
    "        layers.LeakyReLU(),\n",
    "\n",
    "        layers.Conv2DTranspose(64, (5, 5), strides=(2, 2), padding='same', use_bias=False),\n",
    "        layers.BatchNormalization(),\n",
    "        layers.LeakyReLU(),\n",
    "\n",
    "        layers.Conv2DTranspose(3, (5, 5), strides=(1, 1), padding='same', use_bias=False, activation='tanh')\n",
    "    ])\n",
    "\n",
    "    return model"
   ]
  },
  {
   "cell_type": "code",
   "execution_count": null,
   "metadata": {},
   "outputs": [],
   "source": [
    "generator = make_generator_model()\n",
    "generator.summary()"
   ]
  },
  {
   "attachments": {},
   "cell_type": "markdown",
   "metadata": {},
   "source": [
    "## Loss Functions and Optimizers"
   ]
  },
  {
   "cell_type": "code",
   "execution_count": null,
   "metadata": {},
   "outputs": [],
   "source": [
    "optimizer = tf.keras.optimizers.Adam(1e-4)\n",
    "loss_object = tf.keras.losses.BinaryCrossentropy()"
   ]
  },
  {
   "attachments": {},
   "cell_type": "markdown",
   "metadata": {},
   "source": [
    "### Continute Training"
   ]
  },
  {
   "cell_type": "code",
   "execution_count": null,
   "metadata": {},
   "outputs": [],
   "source": [
    "TRAINING_RESUME = False\n",
    "epoch = 0\n",
    "\n",
    "if(TRAINING_RESUME):\n",
    "    generator.load_weights(os.path.join(os.environ['CHECKPOINT_PATH'], f\"generator_epoch_{epoch}.h5\"))\n",
    "    discriminator.load_weights(os.path.join(os.environ['CHECKPOINT_PATH'], f\"discriminator_epoch_{epoch}.h5\"))"
   ]
  },
  {
   "cell_type": "code",
   "execution_count": null,
   "metadata": {},
   "outputs": [],
   "source": [
    "## Discriminator setup\n",
    "discriminator.compile(optimizer=optimizer, loss=loss_object, metrics=['accuracy'])\n",
    "discriminator.trainable = False"
   ]
  },
  {
   "cell_type": "code",
   "execution_count": null,
   "metadata": {},
   "outputs": [],
   "source": [
    "## Generator setup\n",
    "noise = layers.Input(shape=(NOISE_DIM,))\n",
    "image = generator(noise)\n",
    "\n",
    "## Combined model\n",
    "validity = discriminator(image)\n",
    "combined = tf.keras.Model(noise, validity)\n",
    "combined.compile(optimizer=optimizer, loss=loss_object)"
   ]
  },
  {
   "attachments": {},
   "cell_type": "markdown",
   "metadata": {},
   "source": [
    "## Utility Functions"
   ]
  },
  {
   "cell_type": "code",
   "execution_count": null,
   "metadata": {},
   "outputs": [],
   "source": [
    "def discriminator_train(current_accuracy):\n",
    "    return current_accuracy < DISCRIMINATOR_ACCURACY_THRESHOLD"
   ]
  },
  {
   "cell_type": "code",
   "execution_count": null,
   "metadata": {},
   "outputs": [],
   "source": [
    "def sample_image(epoch):\n",
    "    noise = np.random.normal(0, 1, (1, NOISE_DIM))\n",
    "\n",
    "    gen_imgs = generator.predict(noise)\n",
    "    gen_imgs = 0.5 * gen_imgs + 0.5\n",
    "\n",
    "    fig = gen_imgs[0]\n",
    "    im = Image.fromarray((fig * 255).astype(np.uint8))\n",
    "\n",
    "    path = os.path.join(os.environ['SAMPLES_PATH'], f\"image_{epoch}.jpg\")\n",
    "    im.save(path)"
   ]
  },
  {
   "cell_type": "code",
   "execution_count": null,
   "metadata": {},
   "outputs": [],
   "source": [
    "## Create batches of images from directory\n",
    "\n",
    "def create_batches(images, batch_size=BATCH_SIZE):\n",
    "    while True:\n",
    "        for i in range(0, MAX_SIZE, batch_size):\n",
    "            batch_images = image_files[i:i+batch_size]\n",
    "            batch = np.array([imread(file_name) for file_name in batch_images])\n",
    "            batch = (batch.astype(np.float32) - 127.5) / 127.5\n",
    "            yield batch"
   ]
  },
  {
   "cell_type": "code",
   "execution_count": null,
   "metadata": {},
   "outputs": [],
   "source": [
    "def create_checkpoint(generator, discriminator,epoch):\n",
    "    path = os.path.join(os.environ['CHECKPOINT_PATH'], f\"generator_epoch_{epoch}.h5\")\n",
    "    generator.save(path)\n",
    "\n",
    "    path = os.path.join(os.environ['CHECKPOINT_PATH'], f\"discriminator_epoch_{epoch}.h5\")\n",
    "    discriminator.save(path)\n"
   ]
  },
  {
   "attachments": {},
   "cell_type": "markdown",
   "metadata": {},
   "source": [
    "## Training the model"
   ]
  },
  {
   "cell_type": "code",
   "execution_count": null,
   "metadata": {},
   "outputs": [],
   "source": [
    "real = np.ones((BATCH_SIZE, 1))\n",
    "fake = np.zeros((BATCH_SIZE, 1))\n",
    "\n",
    "discriminator_loss = []\n",
    "generator_loss = []\n",
    "\n",
    "image_files = np.array(image_files)"
   ]
  },
  {
   "cell_type": "code",
   "execution_count": null,
   "metadata": {},
   "outputs": [],
   "source": [
    "reshapeModel = tf.keras.Sequential([layers.Resizing(128,128, input_shape=(218,178,3,))])"
   ]
  },
  {
   "cell_type": "code",
   "execution_count": null,
   "metadata": {},
   "outputs": [],
   "source": [
    "for epoch in range(EPOCHS):\n",
    "\n",
    "    print(f\"----------- Epoch {epoch+1} -----------\")\n",
    "\n",
    "    epoch_images = np.random.choice(image_files, int(MAX_SIZE*RANDOM_SELECT), replace=False)\n",
    "\n",
    "    imgGenerator = create_batches(epoch_images)\n",
    "\n",
    "    discriminator_batch_loss = []\n",
    "    discriminator_batch_acc = []\n",
    "    generator_batch_loss = []\n",
    "\n",
    "    for i in range (len(epoch_images)//BATCH_SIZE):\n",
    "\n",
    "        imgs = next(imgGenerator)\n",
    "        imgs = reshapeModel(imgs)\n",
    "\n",
    "        noise = np.random.normal(0, 1, (BATCH_SIZE, NOISE_DIM))\n",
    "\n",
    "        discriminator.trainable = True if (len(discriminator_loss) == 0) else discriminator_train(discriminator_loss[-1])\n",
    "\n",
    "        gen_imgs = generator.predict(noise, verbose=0)\n",
    "\n",
    "        d_loss_real = discriminator.train_on_batch(imgs, real)\n",
    "        d_loss_fake = discriminator.train_on_batch(gen_imgs, fake)\n",
    "        d_loss = 0.5 * np.add(d_loss_real, d_loss_fake)\n",
    "\n",
    "        discriminator.trainable = False\n",
    "\n",
    "        g_loss = combined.train_on_batch(noise, real)\n",
    "\n",
    "        discriminator_batch_loss.append(d_loss[0])\n",
    "        generator_batch_loss.append(g_loss)\n",
    "        discriminator_batch_acc.append(d_loss[1])\n",
    "\n",
    "    discriminator_loss.append(np.mean(discriminator_batch_loss))\n",
    "    generator_loss.append(np.mean(generator_batch_loss))\n",
    "\n",
    "\n",
    "    print(f\"Discriminator loss: {d_loss[0]}   Accuracy: {d_loss[1]}\")\n",
    "    print(f\"Generator loss: {g_loss}\")\n",
    "    print('---------------------------------------')\n",
    "\n",
    "    if((epoch+1) % INTERVAL==0):\n",
    "        sample_image(epoch+1)\n",
    "        create_checkpoint(generator, discriminator, epoch+1)"
   ]
  },
  {
   "cell_type": "code",
   "execution_count": null,
   "metadata": {},
   "outputs": [],
   "source": [
    "generator.save(os.path.join(os.environ['MODELPATH'], 'generator.h5'))\n",
    "discriminator.save(os.path.join(os.environ['MODELPATH'], 'discriminator.h5'))"
   ]
  },
  {
   "cell_type": "code",
   "execution_count": null,
   "metadata": {},
   "outputs": [],
   "source": [
    "discriminator.trainable"
   ]
  },
  {
   "cell_type": "code",
   "execution_count": null,
   "metadata": {},
   "outputs": [],
   "source": [
    "generator = tf.keras.models.load_model(os.path.join(os.environ['CHECKPOINT_PATH'], 'generator_epoch_1320.h5'))\n",
    "noise = np.random.normal(0, 1, (1, 250))\n",
    "gen_imgs = generator.predict(noise)\n",
    "gen_imgs = 0.5 * gen_imgs + 0.5\n",
    "plt.imshow(gen_imgs[0])"
   ]
  }
 ],
 "metadata": {
  "kernelspec": {
   "display_name": "Python 3",
   "language": "python",
   "name": "python3"
  },
  "language_info": {
   "codemirror_mode": {
    "name": "ipython",
    "version": 3
   },
   "file_extension": ".py",
   "mimetype": "text/x-python",
   "name": "python",
   "nbconvert_exporter": "python",
   "pygments_lexer": "ipython3",
   "version": "3.9.0"
  },
  "orig_nbformat": 4,
  "vscode": {
   "interpreter": {
    "hash": "1c86d1f08c8747f65d29efdac2337fb2fbe4a38445ea9d06a150195f44de4365"
   }
  }
 },
 "nbformat": 4,
 "nbformat_minor": 2
}
